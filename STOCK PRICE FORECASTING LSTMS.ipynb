{
 "cells": [
  {
   "cell_type": "code",
   "execution_count": 3,
   "id": "7e0a0f19",
   "metadata": {},
   "outputs": [],
   "source": [
    "import numpy as np\n",
    "import pandas as pd\n",
    "import matplotlib.pyplot as plt\n",
    "\n",
    "import torch\n",
    "import torch.nn as nn\n",
    "\n",
    "data=pd.read_csv('AMZN.csv')\n"
   ]
  },
  {
   "cell_type": "code",
   "execution_count": 2,
   "id": "fd0244f7",
   "metadata": {},
   "outputs": [
    {
     "name": "stdout",
     "output_type": "stream",
     "text": [
      "Collecting torch\n",
      "  Downloading torch-2.0.1-cp39-cp39-win_amd64.whl (172.4 MB)\n",
      "     -------------------------------------- 172.4/172.4 MB 2.2 MB/s eta 0:00:00\n",
      "Requirement already satisfied: filelock in c:\\users\\arsha\\anaconda3\\lib\\site-packages (from torch) (3.6.0)\n",
      "Requirement already satisfied: networkx in c:\\users\\arsha\\anaconda3\\lib\\site-packages (from torch) (2.8.4)\n",
      "Requirement already satisfied: sympy in c:\\users\\arsha\\anaconda3\\lib\\site-packages (from torch) (1.10.1)\n",
      "Requirement already satisfied: jinja2 in c:\\users\\arsha\\anaconda3\\lib\\site-packages (from torch) (2.11.3)\n",
      "Requirement already satisfied: typing-extensions in c:\\users\\arsha\\anaconda3\\lib\\site-packages (from torch) (4.3.0)\n",
      "Requirement already satisfied: MarkupSafe>=0.23 in c:\\users\\arsha\\anaconda3\\lib\\site-packages (from jinja2->torch) (2.0.1)\n",
      "Requirement already satisfied: mpmath>=0.19 in c:\\users\\arsha\\anaconda3\\lib\\site-packages (from sympy->torch) (1.2.1)\n",
      "Installing collected packages: torch\n",
      "Successfully installed torch-2.0.1\n",
      "Note: you may need to restart the kernel to use updated packages.\n"
     ]
    }
   ],
   "source": [
    "pip install torch"
   ]
  },
  {
   "cell_type": "code",
   "execution_count": 4,
   "id": "6edb3e02",
   "metadata": {},
   "outputs": [
    {
     "data": {
      "text/html": [
       "<div>\n",
       "<style scoped>\n",
       "    .dataframe tbody tr th:only-of-type {\n",
       "        vertical-align: middle;\n",
       "    }\n",
       "\n",
       "    .dataframe tbody tr th {\n",
       "        vertical-align: top;\n",
       "    }\n",
       "\n",
       "    .dataframe thead th {\n",
       "        text-align: right;\n",
       "    }\n",
       "</style>\n",
       "<table border=\"1\" class=\"dataframe\">\n",
       "  <thead>\n",
       "    <tr style=\"text-align: right;\">\n",
       "      <th></th>\n",
       "      <th>Date</th>\n",
       "      <th>Open</th>\n",
       "      <th>High</th>\n",
       "      <th>Low</th>\n",
       "      <th>Close</th>\n",
       "      <th>Adj Close</th>\n",
       "      <th>Volume</th>\n",
       "    </tr>\n",
       "  </thead>\n",
       "  <tbody>\n",
       "    <tr>\n",
       "      <th>0</th>\n",
       "      <td>1997-05-15</td>\n",
       "      <td>0.121875</td>\n",
       "      <td>0.125000</td>\n",
       "      <td>0.096354</td>\n",
       "      <td>0.097917</td>\n",
       "      <td>0.097917</td>\n",
       "      <td>1443120000</td>\n",
       "    </tr>\n",
       "    <tr>\n",
       "      <th>1</th>\n",
       "      <td>1997-05-16</td>\n",
       "      <td>0.098438</td>\n",
       "      <td>0.098958</td>\n",
       "      <td>0.085417</td>\n",
       "      <td>0.086458</td>\n",
       "      <td>0.086458</td>\n",
       "      <td>294000000</td>\n",
       "    </tr>\n",
       "    <tr>\n",
       "      <th>2</th>\n",
       "      <td>1997-05-19</td>\n",
       "      <td>0.088021</td>\n",
       "      <td>0.088542</td>\n",
       "      <td>0.081250</td>\n",
       "      <td>0.085417</td>\n",
       "      <td>0.085417</td>\n",
       "      <td>122136000</td>\n",
       "    </tr>\n",
       "    <tr>\n",
       "      <th>3</th>\n",
       "      <td>1997-05-20</td>\n",
       "      <td>0.086458</td>\n",
       "      <td>0.087500</td>\n",
       "      <td>0.081771</td>\n",
       "      <td>0.081771</td>\n",
       "      <td>0.081771</td>\n",
       "      <td>109344000</td>\n",
       "    </tr>\n",
       "    <tr>\n",
       "      <th>4</th>\n",
       "      <td>1997-05-21</td>\n",
       "      <td>0.081771</td>\n",
       "      <td>0.082292</td>\n",
       "      <td>0.068750</td>\n",
       "      <td>0.071354</td>\n",
       "      <td>0.071354</td>\n",
       "      <td>377064000</td>\n",
       "    </tr>\n",
       "    <tr>\n",
       "      <th>...</th>\n",
       "      <td>...</td>\n",
       "      <td>...</td>\n",
       "      <td>...</td>\n",
       "      <td>...</td>\n",
       "      <td>...</td>\n",
       "      <td>...</td>\n",
       "      <td>...</td>\n",
       "    </tr>\n",
       "    <tr>\n",
       "      <th>6511</th>\n",
       "      <td>2023-03-30</td>\n",
       "      <td>101.550003</td>\n",
       "      <td>103.040001</td>\n",
       "      <td>101.010002</td>\n",
       "      <td>102.000000</td>\n",
       "      <td>102.000000</td>\n",
       "      <td>53633400</td>\n",
       "    </tr>\n",
       "    <tr>\n",
       "      <th>6512</th>\n",
       "      <td>2023-03-31</td>\n",
       "      <td>102.160004</td>\n",
       "      <td>103.489998</td>\n",
       "      <td>101.949997</td>\n",
       "      <td>103.290001</td>\n",
       "      <td>103.290001</td>\n",
       "      <td>56704300</td>\n",
       "    </tr>\n",
       "    <tr>\n",
       "      <th>6513</th>\n",
       "      <td>2023-04-03</td>\n",
       "      <td>102.300003</td>\n",
       "      <td>103.290001</td>\n",
       "      <td>101.430000</td>\n",
       "      <td>102.410004</td>\n",
       "      <td>102.410004</td>\n",
       "      <td>41135700</td>\n",
       "    </tr>\n",
       "    <tr>\n",
       "      <th>6514</th>\n",
       "      <td>2023-04-04</td>\n",
       "      <td>102.750000</td>\n",
       "      <td>104.199997</td>\n",
       "      <td>102.110001</td>\n",
       "      <td>103.949997</td>\n",
       "      <td>103.949997</td>\n",
       "      <td>48662500</td>\n",
       "    </tr>\n",
       "    <tr>\n",
       "      <th>6515</th>\n",
       "      <td>2023-04-05</td>\n",
       "      <td>103.910004</td>\n",
       "      <td>103.910004</td>\n",
       "      <td>100.750000</td>\n",
       "      <td>101.099998</td>\n",
       "      <td>101.099998</td>\n",
       "      <td>45103000</td>\n",
       "    </tr>\n",
       "  </tbody>\n",
       "</table>\n",
       "<p>6516 rows × 7 columns</p>\n",
       "</div>"
      ],
      "text/plain": [
       "            Date        Open        High         Low       Close   Adj Close  \\\n",
       "0     1997-05-15    0.121875    0.125000    0.096354    0.097917    0.097917   \n",
       "1     1997-05-16    0.098438    0.098958    0.085417    0.086458    0.086458   \n",
       "2     1997-05-19    0.088021    0.088542    0.081250    0.085417    0.085417   \n",
       "3     1997-05-20    0.086458    0.087500    0.081771    0.081771    0.081771   \n",
       "4     1997-05-21    0.081771    0.082292    0.068750    0.071354    0.071354   \n",
       "...          ...         ...         ...         ...         ...         ...   \n",
       "6511  2023-03-30  101.550003  103.040001  101.010002  102.000000  102.000000   \n",
       "6512  2023-03-31  102.160004  103.489998  101.949997  103.290001  103.290001   \n",
       "6513  2023-04-03  102.300003  103.290001  101.430000  102.410004  102.410004   \n",
       "6514  2023-04-04  102.750000  104.199997  102.110001  103.949997  103.949997   \n",
       "6515  2023-04-05  103.910004  103.910004  100.750000  101.099998  101.099998   \n",
       "\n",
       "          Volume  \n",
       "0     1443120000  \n",
       "1      294000000  \n",
       "2      122136000  \n",
       "3      109344000  \n",
       "4      377064000  \n",
       "...          ...  \n",
       "6511    53633400  \n",
       "6512    56704300  \n",
       "6513    41135700  \n",
       "6514    48662500  \n",
       "6515    45103000  \n",
       "\n",
       "[6516 rows x 7 columns]"
      ]
     },
     "execution_count": 4,
     "metadata": {},
     "output_type": "execute_result"
    }
   ],
   "source": [
    "data"
   ]
  },
  {
   "cell_type": "code",
   "execution_count": 6,
   "id": "9520b64a",
   "metadata": {},
   "outputs": [
    {
     "data": {
      "text/html": [
       "<div>\n",
       "<style scoped>\n",
       "    .dataframe tbody tr th:only-of-type {\n",
       "        vertical-align: middle;\n",
       "    }\n",
       "\n",
       "    .dataframe tbody tr th {\n",
       "        vertical-align: top;\n",
       "    }\n",
       "\n",
       "    .dataframe thead th {\n",
       "        text-align: right;\n",
       "    }\n",
       "</style>\n",
       "<table border=\"1\" class=\"dataframe\">\n",
       "  <thead>\n",
       "    <tr style=\"text-align: right;\">\n",
       "      <th></th>\n",
       "      <th>Date</th>\n",
       "      <th>Close</th>\n",
       "    </tr>\n",
       "  </thead>\n",
       "  <tbody>\n",
       "    <tr>\n",
       "      <th>0</th>\n",
       "      <td>1997-05-15</td>\n",
       "      <td>0.097917</td>\n",
       "    </tr>\n",
       "    <tr>\n",
       "      <th>1</th>\n",
       "      <td>1997-05-16</td>\n",
       "      <td>0.086458</td>\n",
       "    </tr>\n",
       "    <tr>\n",
       "      <th>2</th>\n",
       "      <td>1997-05-19</td>\n",
       "      <td>0.085417</td>\n",
       "    </tr>\n",
       "    <tr>\n",
       "      <th>3</th>\n",
       "      <td>1997-05-20</td>\n",
       "      <td>0.081771</td>\n",
       "    </tr>\n",
       "    <tr>\n",
       "      <th>4</th>\n",
       "      <td>1997-05-21</td>\n",
       "      <td>0.071354</td>\n",
       "    </tr>\n",
       "    <tr>\n",
       "      <th>...</th>\n",
       "      <td>...</td>\n",
       "      <td>...</td>\n",
       "    </tr>\n",
       "    <tr>\n",
       "      <th>6511</th>\n",
       "      <td>2023-03-30</td>\n",
       "      <td>102.000000</td>\n",
       "    </tr>\n",
       "    <tr>\n",
       "      <th>6512</th>\n",
       "      <td>2023-03-31</td>\n",
       "      <td>103.290001</td>\n",
       "    </tr>\n",
       "    <tr>\n",
       "      <th>6513</th>\n",
       "      <td>2023-04-03</td>\n",
       "      <td>102.410004</td>\n",
       "    </tr>\n",
       "    <tr>\n",
       "      <th>6514</th>\n",
       "      <td>2023-04-04</td>\n",
       "      <td>103.949997</td>\n",
       "    </tr>\n",
       "    <tr>\n",
       "      <th>6515</th>\n",
       "      <td>2023-04-05</td>\n",
       "      <td>101.099998</td>\n",
       "    </tr>\n",
       "  </tbody>\n",
       "</table>\n",
       "<p>6516 rows × 2 columns</p>\n",
       "</div>"
      ],
      "text/plain": [
       "            Date       Close\n",
       "0     1997-05-15    0.097917\n",
       "1     1997-05-16    0.086458\n",
       "2     1997-05-19    0.085417\n",
       "3     1997-05-20    0.081771\n",
       "4     1997-05-21    0.071354\n",
       "...          ...         ...\n",
       "6511  2023-03-30  102.000000\n",
       "6512  2023-03-31  103.290001\n",
       "6513  2023-04-03  102.410004\n",
       "6514  2023-04-04  103.949997\n",
       "6515  2023-04-05  101.099998\n",
       "\n",
       "[6516 rows x 2 columns]"
      ]
     },
     "execution_count": 6,
     "metadata": {},
     "output_type": "execute_result"
    }
   ],
   "source": [
    "data=data[['Date','Close']]\n",
    "data"
   ]
  },
  {
   "cell_type": "code",
   "execution_count": 7,
   "id": "a994c1c3",
   "metadata": {},
   "outputs": [
    {
     "name": "stderr",
     "output_type": "stream",
     "text": [
      "C:\\Users\\arsha\\AppData\\Local\\Temp\\ipykernel_19952\\1428478067.py:1: SettingWithCopyWarning: \n",
      "A value is trying to be set on a copy of a slice from a DataFrame.\n",
      "Try using .loc[row_indexer,col_indexer] = value instead\n",
      "\n",
      "See the caveats in the documentation: https://pandas.pydata.org/pandas-docs/stable/user_guide/indexing.html#returning-a-view-versus-a-copy\n",
      "  data['Date']=pd.to_datetime(data['Date'])\n"
     ]
    }
   ],
   "source": [
    "data['Date']=pd.to_datetime(data['Date'])"
   ]
  },
  {
   "cell_type": "code",
   "execution_count": 8,
   "id": "5801808c",
   "metadata": {},
   "outputs": [
    {
     "data": {
      "text/plain": [
       "[<matplotlib.lines.Line2D at 0x23bd6476610>]"
      ]
     },
     "execution_count": 8,
     "metadata": {},
     "output_type": "execute_result"
    },
    {
     "data": {
      "image/png": "[encoded data removed]",
      "text/plain": [
       "<Figure size 640x480 with 1 Axes>"
      ]
     },
     "metadata": {},
     "output_type": "display_data"
    }
   ],
   "source": [
    "plt.plot(data['Date'],data['Close'])"
   ]
  },
  {
   "cell_type": "code",
   "execution_count": 13,
   "id": "56d6268c",
   "metadata": {},
   "outputs": [
    {
     "data": {
      "text/html": [
       "<div>\n",
       "<style scoped>\n",
       "    .dataframe tbody tr th:only-of-type {\n",
       "        vertical-align: middle;\n",
       "    }\n",
       "\n",
       "    .dataframe tbody tr th {\n",
       "        vertical-align: top;\n",
       "    }\n",
       "\n",
       "    .dataframe thead th {\n",
       "        text-align: right;\n",
       "    }\n",
       "</style>\n",
       "<table border=\"1\" class=\"dataframe\">\n",
       "  <thead>\n",
       "    <tr style=\"text-align: right;\">\n",
       "      <th></th>\n",
       "      <th>Close</th>\n",
       "      <th>Close(t-1)</th>\n",
       "      <th>Close(t-2)</th>\n",
       "      <th>Close(t-3)</th>\n",
       "      <th>Close(t-4)</th>\n",
       "      <th>Close(t-5)</th>\n",
       "      <th>Close(t-6)</th>\n",
       "      <th>Close(t-7)</th>\n",
       "      <th>Close(t-8)</th>\n",
       "      <th>Close(t-9)</th>\n",
       "      <th>Close(t-10)</th>\n",
       "      <th>Close(t-11)</th>\n",
       "      <th>Close(t-12)</th>\n",
       "      <th>Close(t-13)</th>\n",
       "      <th>Close(t-14)</th>\n",
       "    </tr>\n",
       "    <tr>\n",
       "      <th>Date</th>\n",
       "      <th></th>\n",
       "      <th></th>\n",
       "      <th></th>\n",
       "      <th></th>\n",
       "      <th></th>\n",
       "      <th></th>\n",
       "      <th></th>\n",
       "      <th></th>\n",
       "      <th></th>\n",
       "      <th></th>\n",
       "      <th></th>\n",
       "      <th></th>\n",
       "      <th></th>\n",
       "      <th></th>\n",
       "      <th></th>\n",
       "    </tr>\n",
       "  </thead>\n",
       "  <tbody>\n",
       "    <tr>\n",
       "      <th>1997-06-05</th>\n",
       "      <td>0.077083</td>\n",
       "      <td>0.070833</td>\n",
       "      <td>0.073958</td>\n",
       "      <td>0.075521</td>\n",
       "      <td>0.075000</td>\n",
       "      <td>0.075260</td>\n",
       "      <td>0.076563</td>\n",
       "      <td>0.079167</td>\n",
       "      <td>0.075000</td>\n",
       "      <td>0.069792</td>\n",
       "      <td>0.071354</td>\n",
       "      <td>0.081771</td>\n",
       "      <td>0.085417</td>\n",
       "      <td>0.086458</td>\n",
       "      <td>0.097917</td>\n",
       "    </tr>\n",
       "    <tr>\n",
       "      <th>1997-06-06</th>\n",
       "      <td>0.082813</td>\n",
       "      <td>0.077083</td>\n",
       "      <td>0.070833</td>\n",
       "      <td>0.073958</td>\n",
       "      <td>0.075521</td>\n",
       "      <td>0.075000</td>\n",
       "      <td>0.075260</td>\n",
       "      <td>0.076563</td>\n",
       "      <td>0.079167</td>\n",
       "      <td>0.075000</td>\n",
       "      <td>0.069792</td>\n",
       "      <td>0.071354</td>\n",
       "      <td>0.081771</td>\n",
       "      <td>0.085417</td>\n",
       "      <td>0.086458</td>\n",
       "    </tr>\n",
       "    <tr>\n",
       "      <th>1997-06-09</th>\n",
       "      <td>0.084375</td>\n",
       "      <td>0.082813</td>\n",
       "      <td>0.077083</td>\n",
       "      <td>0.070833</td>\n",
       "      <td>0.073958</td>\n",
       "      <td>0.075521</td>\n",
       "      <td>0.075000</td>\n",
       "      <td>0.075260</td>\n",
       "      <td>0.076563</td>\n",
       "      <td>0.079167</td>\n",
       "      <td>0.075000</td>\n",
       "      <td>0.069792</td>\n",
       "      <td>0.071354</td>\n",
       "      <td>0.081771</td>\n",
       "      <td>0.085417</td>\n",
       "    </tr>\n",
       "    <tr>\n",
       "      <th>1997-06-10</th>\n",
       "      <td>0.079167</td>\n",
       "      <td>0.084375</td>\n",
       "      <td>0.082813</td>\n",
       "      <td>0.077083</td>\n",
       "      <td>0.070833</td>\n",
       "      <td>0.073958</td>\n",
       "      <td>0.075521</td>\n",
       "      <td>0.075000</td>\n",
       "      <td>0.075260</td>\n",
       "      <td>0.076563</td>\n",
       "      <td>0.079167</td>\n",
       "      <td>0.075000</td>\n",
       "      <td>0.069792</td>\n",
       "      <td>0.071354</td>\n",
       "      <td>0.081771</td>\n",
       "    </tr>\n",
       "    <tr>\n",
       "      <th>1997-06-11</th>\n",
       "      <td>0.077083</td>\n",
       "      <td>0.079167</td>\n",
       "      <td>0.084375</td>\n",
       "      <td>0.082813</td>\n",
       "      <td>0.077083</td>\n",
       "      <td>0.070833</td>\n",
       "      <td>0.073958</td>\n",
       "      <td>0.075521</td>\n",
       "      <td>0.075000</td>\n",
       "      <td>0.075260</td>\n",
       "      <td>0.076563</td>\n",
       "      <td>0.079167</td>\n",
       "      <td>0.075000</td>\n",
       "      <td>0.069792</td>\n",
       "      <td>0.071354</td>\n",
       "    </tr>\n",
       "    <tr>\n",
       "      <th>...</th>\n",
       "      <td>...</td>\n",
       "      <td>...</td>\n",
       "      <td>...</td>\n",
       "      <td>...</td>\n",
       "      <td>...</td>\n",
       "      <td>...</td>\n",
       "      <td>...</td>\n",
       "      <td>...</td>\n",
       "      <td>...</td>\n",
       "      <td>...</td>\n",
       "      <td>...</td>\n",
       "      <td>...</td>\n",
       "      <td>...</td>\n",
       "      <td>...</td>\n",
       "      <td>...</td>\n",
       "    </tr>\n",
       "    <tr>\n",
       "      <th>2023-03-30</th>\n",
       "      <td>102.000000</td>\n",
       "      <td>100.250000</td>\n",
       "      <td>97.239998</td>\n",
       "      <td>98.040001</td>\n",
       "      <td>98.129997</td>\n",
       "      <td>98.709999</td>\n",
       "      <td>98.699997</td>\n",
       "      <td>100.610001</td>\n",
       "      <td>97.709999</td>\n",
       "      <td>98.949997</td>\n",
       "      <td>100.040001</td>\n",
       "      <td>96.199997</td>\n",
       "      <td>94.879997</td>\n",
       "      <td>92.430000</td>\n",
       "      <td>90.730003</td>\n",
       "    </tr>\n",
       "    <tr>\n",
       "      <th>2023-03-31</th>\n",
       "      <td>103.290001</td>\n",
       "      <td>102.000000</td>\n",
       "      <td>100.250000</td>\n",
       "      <td>97.239998</td>\n",
       "      <td>98.040001</td>\n",
       "      <td>98.129997</td>\n",
       "      <td>98.709999</td>\n",
       "      <td>98.699997</td>\n",
       "      <td>100.610001</td>\n",
       "      <td>97.709999</td>\n",
       "      <td>98.949997</td>\n",
       "      <td>100.040001</td>\n",
       "      <td>96.199997</td>\n",
       "      <td>94.879997</td>\n",
       "      <td>92.430000</td>\n",
       "    </tr>\n",
       "    <tr>\n",
       "      <th>2023-04-03</th>\n",
       "      <td>102.410004</td>\n",
       "      <td>103.290001</td>\n",
       "      <td>102.000000</td>\n",
       "      <td>100.250000</td>\n",
       "      <td>97.239998</td>\n",
       "      <td>98.040001</td>\n",
       "      <td>98.129997</td>\n",
       "      <td>98.709999</td>\n",
       "      <td>98.699997</td>\n",
       "      <td>100.610001</td>\n",
       "      <td>97.709999</td>\n",
       "      <td>98.949997</td>\n",
       "      <td>100.040001</td>\n",
       "      <td>96.199997</td>\n",
       "      <td>94.879997</td>\n",
       "    </tr>\n",
       "    <tr>\n",
       "      <th>2023-04-04</th>\n",
       "      <td>103.949997</td>\n",
       "      <td>102.410004</td>\n",
       "      <td>103.290001</td>\n",
       "      <td>102.000000</td>\n",
       "      <td>100.250000</td>\n",
       "      <td>97.239998</td>\n",
       "      <td>98.040001</td>\n",
       "      <td>98.129997</td>\n",
       "      <td>98.709999</td>\n",
       "      <td>98.699997</td>\n",
       "      <td>100.610001</td>\n",
       "      <td>97.709999</td>\n",
       "      <td>98.949997</td>\n",
       "      <td>100.040001</td>\n",
       "      <td>96.199997</td>\n",
       "    </tr>\n",
       "    <tr>\n",
       "      <th>2023-04-05</th>\n",
       "      <td>101.099998</td>\n",
       "      <td>103.949997</td>\n",
       "      <td>102.410004</td>\n",
       "      <td>103.290001</td>\n",
       "      <td>102.000000</td>\n",
       "      <td>100.250000</td>\n",
       "      <td>97.239998</td>\n",
       "      <td>98.040001</td>\n",
       "      <td>98.129997</td>\n",
       "      <td>98.709999</td>\n",
       "      <td>98.699997</td>\n",
       "      <td>100.610001</td>\n",
       "      <td>97.709999</td>\n",
       "      <td>98.949997</td>\n",
       "      <td>100.040001</td>\n",
       "    </tr>\n",
       "  </tbody>\n",
       "</table>\n",
       "<p>6502 rows × 15 columns</p>\n",
       "</div>"
      ],
      "text/plain": [
       "                 Close  Close(t-1)  Close(t-2)  Close(t-3)  Close(t-4)  \\\n",
       "Date                                                                     \n",
       "1997-06-05    0.077083    0.070833    0.073958    0.075521    0.075000   \n",
       "1997-06-06    0.082813    0.077083    0.070833    0.073958    0.075521   \n",
       "1997-06-09    0.084375    0.082813    0.077083    0.070833    0.073958   \n",
       "1997-06-10    0.079167    0.084375    0.082813    0.077083    0.070833   \n",
       "1997-06-11    0.077083    0.079167    0.084375    0.082813    0.077083   \n",
       "...                ...         ...         ...         ...         ...   \n",
       "2023-03-30  102.000000  100.250000   97.239998   98.040001   98.129997   \n",
       "2023-03-31  103.290001  102.000000  100.250000   97.239998   98.040001   \n",
       "2023-04-03  102.410004  103.290001  102.000000  100.250000   97.239998   \n",
       "2023-04-04  103.949997  102.410004  103.290001  102.000000  100.250000   \n",
       "2023-04-05  101.099998  103.949997  102.410004  103.290001  102.000000   \n",
       "\n",
       "            Close(t-5)  Close(t-6)  Close(t-7)  Close(t-8)  Close(t-9)  \\\n",
       "Date                                                                     \n",
       "1997-06-05    0.075260    0.076563    0.079167    0.075000    0.069792   \n",
       "1997-06-06    0.075000    0.075260    0.076563    0.079167    0.075000   \n",
       "1997-06-09    0.075521    0.075000    0.075260    0.076563    0.079167   \n",
       "1997-06-10    0.073958    0.075521    0.075000    0.075260    0.076563   \n",
       "1997-06-11    0.070833    0.073958    0.075521    0.075000    0.075260   \n",
       "...                ...         ...         ...         ...         ...   \n",
       "2023-03-30   98.709999   98.699997  100.610001   97.709999   98.949997   \n",
       "2023-03-31   98.129997   98.709999   98.699997  100.610001   97.709999   \n",
       "2023-04-03   98.040001   98.129997   98.709999   98.699997  100.610001   \n",
       "2023-04-04   97.239998   98.040001   98.129997   98.709999   98.699997   \n",
       "2023-04-05  100.250000   97.239998   98.040001   98.129997   98.709999   \n",
       "\n",
       "            Close(t-10)  Close(t-11)  Close(t-12)  Close(t-13)  Close(t-14)  \n",
       "Date                                                                         \n",
       "1997-06-05     0.071354     0.081771     0.085417     0.086458     0.097917  \n",
       "1997-06-06     0.069792     0.071354     0.081771     0.085417     0.086458  \n",
       "1997-06-09     0.075000     0.069792     0.071354     0.081771     0.085417  \n",
       "1997-06-10     0.079167     0.075000     0.069792     0.071354     0.081771  \n",
       "1997-06-11     0.076563     0.079167     0.075000     0.069792     0.071354  \n",
       "...                 ...          ...          ...          ...          ...  \n",
       "2023-03-30   100.040001    96.199997    94.879997    92.430000    90.730003  \n",
       "2023-03-31    98.949997   100.040001    96.199997    94.879997    92.430000  \n",
       "2023-04-03    97.709999    98.949997   100.040001    96.199997    94.879997  \n",
       "2023-04-04   100.610001    97.709999    98.949997   100.040001    96.199997  \n",
       "2023-04-05    98.699997   100.610001    97.709999    98.949997   100.040001  \n",
       "\n",
       "[6502 rows x 15 columns]"
      ]
     },
     "execution_count": 13,
     "metadata": {},
     "output_type": "execute_result"
    }
   ],
   "source": [
    "#we look back at 2 weeks data to predeict current price using lstm seq. generator\n",
    "\n",
    "from copy import deepcopy as dc\n",
    "\n",
    "def prepare_dataframe_for_lstm(df, n_steps):\n",
    "    df=dc(df)\n",
    "    df['Date']=pd.to_datetime(df['Date'])\n",
    "    df.set_index('Date',inplace=True)\n",
    "    for i in range(1,n_steps+1):\n",
    "        df[f'Close(t-{i})']=df['Close'].shift(i)\n",
    "    df.dropna(inplace=True)\n",
    "    return df\n",
    "lookback=14\n",
    "shifted_df=prepare_dataframe_for_lstm(data,lookback)\n",
    "shifted_df"
   ]
  },
  {
   "cell_type": "code",
   "execution_count": 17,
   "id": "7cb85689",
   "metadata": {},
   "outputs": [
    {
     "data": {
      "text/plain": [
       "array([[7.70830000e-02, 7.08330000e-02, 7.39580000e-02, ...,\n",
       "        8.54170000e-02, 8.64580000e-02, 9.79170000e-02],\n",
       "       [8.28130000e-02, 7.70830000e-02, 7.08330000e-02, ...,\n",
       "        8.17710000e-02, 8.54170000e-02, 8.64580000e-02],\n",
       "       [8.43750000e-02, 8.28130000e-02, 7.70830000e-02, ...,\n",
       "        7.13540000e-02, 8.17710000e-02, 8.54170000e-02],\n",
       "       ...,\n",
       "       [1.02410004e+02, 1.03290001e+02, 1.02000000e+02, ...,\n",
       "        1.00040001e+02, 9.61999970e+01, 9.48799970e+01],\n",
       "       [1.03949997e+02, 1.02410004e+02, 1.03290001e+02, ...,\n",
       "        9.89499970e+01, 1.00040001e+02, 9.61999970e+01],\n",
       "       [1.01099998e+02, 1.03949997e+02, 1.02410004e+02, ...,\n",
       "        9.77099990e+01, 9.89499970e+01, 1.00040001e+02]])"
      ]
     },
     "execution_count": 17,
     "metadata": {},
     "output_type": "execute_result"
    }
   ],
   "source": [
    "shifted_df_as_np=shifted_df.to_numpy()\n",
    "shifted_df_as_np\n"
   ]
  },
  {
   "cell_type": "code",
   "execution_count": 18,
   "id": "f3a7d2cc",
   "metadata": {},
   "outputs": [
    {
     "data": {
      "text/plain": [
       "array([[-0.99997207, -1.        , -0.99996649, ..., -0.99983244,\n",
       "        -0.99982128, -0.99969839],\n",
       "       [-0.99991063, -0.99993298, -1.        , ..., -0.99987154,\n",
       "        -0.99983244, -0.99982128],\n",
       "       [-0.99989387, -0.99987153, -0.99993298, ..., -0.99998325,\n",
       "        -0.99987154, -0.99983244],\n",
       "       ...,\n",
       "       [ 0.09745534,  0.10690997,  0.09307615, ...,  0.07206254,\n",
       "         0.03088303,  0.01672758],\n",
       "       [ 0.11397036,  0.09747299,  0.10690997, ...,  0.06037353,\n",
       "         0.07206254,  0.03088303],\n",
       "       [ 0.08340672,  0.11398769,  0.09747299, ...,  0.04707602,\n",
       "         0.06037353,  0.07206254]])"
      ]
     },
     "execution_count": 18,
     "metadata": {},
     "output_type": "execute_result"
    }
   ],
   "source": [
    "from sklearn.preprocessing import MinMaxScaler\n",
    "\n",
    "scaler = MinMaxScaler(feature_range=(-1, 1))\n",
    "shifted_df_as_np = scaler.fit_transform(shifted_df_as_np)\n",
    "\n",
    "shifted_df_as_np"
   ]
  },
  {
   "cell_type": "code",
   "execution_count": 20,
   "id": "f2edcdca",
   "metadata": {},
   "outputs": [
    {
     "data": {
      "text/plain": [
       "((6502, 14), (6502,))"
      ]
     },
     "execution_count": 20,
     "metadata": {},
     "output_type": "execute_result"
    }
   ],
   "source": [
    "x=shifted_df_as_np[:,1:]\n",
    "y=shifted_df_as_np[:,0]\n",
    "\n",
    "x.shape , y.shape"
   ]
  },
  {
   "cell_type": "code",
   "execution_count": 22,
   "id": "1eb89ce1",
   "metadata": {},
   "outputs": [
    {
     "data": {
      "text/plain": [
       "array([[-0.99969839, -0.99982128, -0.99983244, ..., -0.99994973,\n",
       "        -0.99996649, -1.        ],\n",
       "       [-0.99982128, -0.99983244, -0.99987154, ..., -0.99996649,\n",
       "        -1.        , -0.99993298],\n",
       "       [-0.99983244, -0.99987154, -0.99998325, ..., -1.        ,\n",
       "        -0.99993298, -0.99987153],\n",
       "       ...,\n",
       "       [ 0.01672758,  0.03088303,  0.07206254, ...,  0.07430936,\n",
       "         0.09307615,  0.10690997],\n",
       "       [ 0.03088303,  0.07206254,  0.06037353, ...,  0.09307615,\n",
       "         0.10690997,  0.09747299],\n",
       "       [ 0.07206254,  0.06037353,  0.04707602, ...,  0.10690997,\n",
       "         0.09747299,  0.11398769]])"
      ]
     },
     "execution_count": 22,
     "metadata": {},
     "output_type": "execute_result"
    }
   ],
   "source": [
    "x= dc(np.flip(x, axis=1))\n",
    "x"
   ]
  },
  {
   "cell_type": "code",
   "execution_count": 23,
   "id": "a810abc8",
   "metadata": {},
   "outputs": [
    {
     "data": {
      "text/plain": [
       "6176"
      ]
     },
     "execution_count": 23,
     "metadata": {},
     "output_type": "execute_result"
    }
   ],
   "source": [
    "split_index=int(len(x)*0.95)\n",
    "split_index"
   ]
  },
  {
   "cell_type": "code",
   "execution_count": 24,
   "id": "a8c05c18",
   "metadata": {},
   "outputs": [
    {
     "data": {
      "text/plain": [
       "((6176, 14), (326, 14), (6176,), (326,))"
      ]
     },
     "execution_count": 24,
     "metadata": {},
     "output_type": "execute_result"
    }
   ],
   "source": [
    "x_train=x[:split_index]\n",
    "x_test=x[split_index:]\n",
    "\n",
    "y_train=y[:split_index]\n",
    "y_test=y[split_index:]\n",
    "x_train.shape,x_test.shape , y_train.shape, y_test.shape"
   ]
  },
  {
   "cell_type": "code",
   "execution_count": 26,
   "id": "a1cc5ca9",
   "metadata": {},
   "outputs": [
    {
     "data": {
      "text/plain": [
       "((6176, 14, 1), (326, 14, 1), (6176, 1), (326, 1))"
      ]
     },
     "execution_count": 26,
     "metadata": {},
     "output_type": "execute_result"
    }
   ],
   "source": [
    "x_train = x_train.reshape((-1, lookback, 1))\n",
    "x_test = x_test.reshape((-1, lookback, 1))\n",
    "\n",
    "y_train = y_train.reshape((-1, 1))\n",
    "y_test = y_test.reshape((-1, 1))\n",
    "\n",
    "x_train.shape, x_test.shape, y_train.shape, y_test.shape"
   ]
  },
  {
   "cell_type": "code",
   "execution_count": 28,
   "id": "0e5b4695",
   "metadata": {},
   "outputs": [
    {
     "data": {
      "text/plain": [
       "(torch.Size([6176, 14, 1]),\n",
       " torch.Size([326, 14, 1]),\n",
       " torch.Size([6176, 1]),\n",
       " torch.Size([326, 1]))"
      ]
     },
     "execution_count": 28,
     "metadata": {},
     "output_type": "execute_result"
    }
   ],
   "source": [
    "x_train = torch.tensor(x_train).float()\n",
    "y_train = torch.tensor(y_train).float()\n",
    "x_test = torch.tensor(x_test).float()\n",
    "y_test = torch.tensor(y_test).float()\n",
    "\n",
    "x_train.shape, x_test.shape, y_train.shape, y_test.shape"
   ]
  },
  {
   "cell_type": "code",
   "execution_count": 29,
   "id": "2627d720",
   "metadata": {},
   "outputs": [],
   "source": [
    "from torch.utils.data import Dataset\n",
    "\n",
    "class TimeSeriesDataset(Dataset):\n",
    "    def __init__(self, x, y):\n",
    "        self.x = x\n",
    "        self.y = y\n",
    "\n",
    "    def __len__(self):\n",
    "        return len(self.x)\n",
    "\n",
    "    def __getitem__(self, i):\n",
    "        return self.x[i], self.y[i]\n",
    "    \n",
    "train_dataset = TimeSeriesDataset(x_train, y_train)\n",
    "test_dataset = TimeSeriesDataset(x_test, y_test)"
   ]
  },
  {
   "cell_type": "code",
   "execution_count": 30,
   "id": "07bd8490",
   "metadata": {},
   "outputs": [],
   "source": [
    "from torch.utils.data import DataLoader\n",
    "\n",
    "batch_size = 16\n",
    "\n",
    "train_loader = DataLoader(train_dataset, batch_size=batch_size, shuffle=True)\n",
    "test_loader = DataLoader(test_dataset, batch_size=batch_size, shuffle=False)"
   ]
  },
  {
   "cell_type": "code",
   "execution_count": 32,
   "id": "371dad28",
   "metadata": {},
   "outputs": [
    {
     "data": {
      "text/plain": [
       "'cpu'"
      ]
     },
     "execution_count": 32,
     "metadata": {},
     "output_type": "execute_result"
    }
   ],
   "source": [
    "device = 'cuda:0' if torch.cuda.is_available() else 'cpu'\n",
    "device"
   ]
  },
  {
   "cell_type": "code",
   "execution_count": 33,
   "id": "a5b9ccf2",
   "metadata": {},
   "outputs": [
    {
     "name": "stdout",
     "output_type": "stream",
     "text": [
      "torch.Size([16, 14, 1]) torch.Size([16, 1])\n"
     ]
    }
   ],
   "source": [
    "for _, batch in enumerate(train_loader):\n",
    "    x_batch, y_batch = batch[0].to(device), batch[1].to(device)\n",
    "    print(x_batch.shape, y_batch.shape)\n",
    "    break"
   ]
  },
  {
   "cell_type": "code",
   "execution_count": 34,
   "id": "1a856dab",
   "metadata": {},
   "outputs": [
    {
     "data": {
      "text/plain": [
       "LSTM(\n",
       "  (lstm): LSTM(1, 4, batch_first=True)\n",
       "  (fc): Linear(in_features=4, out_features=1, bias=True)\n",
       ")"
      ]
     },
     "execution_count": 34,
     "metadata": {},
     "output_type": "execute_result"
    }
   ],
   "source": [
    "class LSTM(nn.Module):\n",
    "    def __init__(self, input_size, hidden_size, num_stacked_layers):\n",
    "        super().__init__()\n",
    "        self.hidden_size = hidden_size\n",
    "        self.num_stacked_layers = num_stacked_layers\n",
    "\n",
    "        self.lstm = nn.LSTM(input_size, hidden_size, num_stacked_layers, \n",
    "                            batch_first=True)\n",
    "        \n",
    "        self.fc = nn.Linear(hidden_size, 1)\n",
    "\n",
    "    def forward(self, x):\n",
    "        batch_size = x.size(0)\n",
    "        h0 = torch.zeros(self.num_stacked_layers, batch_size, self.hidden_size).to(device)\n",
    "        c0 = torch.zeros(self.num_stacked_layers, batch_size, self.hidden_size).to(device)\n",
    "        \n",
    "        out, _ = self.lstm(x, (h0, c0))\n",
    "        out = self.fc(out[:, -1, :])\n",
    "        return out\n",
    "\n",
    "model = LSTM(1, 4, 1)\n",
    "model.to(device)\n",
    "model"
   ]
  },
  {
   "cell_type": "code",
   "execution_count": 35,
   "id": "5d86870e",
   "metadata": {},
   "outputs": [],
   "source": [
    "def train_one_epoch():\n",
    "    model.train(True)\n",
    "    print(f'Epoch: {epoch + 1}')\n",
    "    running_loss = 0.0\n",
    "    \n",
    "    for batch_index, batch in enumerate(train_loader):\n",
    "        x_batch, y_batch = batch[0].to(device), batch[1].to(device)\n",
    "        \n",
    "        output = model(x_batch)\n",
    "        loss = loss_function(output, y_batch)\n",
    "        running_loss += loss.item()\n",
    "        \n",
    "        optimizer.zero_grad()\n",
    "        loss.backward()\n",
    "        optimizer.step()\n",
    "\n",
    "        if batch_index % 100 == 99:  # print every 100 batches\n",
    "            avg_loss_across_batches = running_loss / 100\n",
    "            print('Batch {0}, Loss: {1:.3f}'.format(batch_index+1,\n",
    "                                                    avg_loss_across_batches))\n",
    "            running_loss = 0.0\n",
    "    print()"
   ]
  },
  {
   "cell_type": "code",
   "execution_count": 36,
   "id": "eb5aa8cb",
   "metadata": {},
   "outputs": [],
   "source": [
    "def validate_one_epoch():\n",
    "    model.train(False)\n",
    "    running_loss = 0.0\n",
    "    \n",
    "    for batch_index, batch in enumerate(test_loader):\n",
    "        x_batch, y_batch = batch[0].to(device), batch[1].to(device)\n",
    "        \n",
    "        with torch.no_grad():\n",
    "            output = model(x_batch)\n",
    "            loss = loss_function(output, y_batch)\n",
    "            running_loss += loss.item()\n",
    "\n",
    "    avg_loss_across_batches = running_loss / len(test_loader)\n",
    "    \n",
    "    print('Val Loss: {0:.3f}'.format(avg_loss_across_batches))\n",
    "    print('***************************************************')\n",
    "    print()"
   ]
  },
  {
   "cell_type": "code",
   "execution_count": 37,
   "id": "84e83af8",
   "metadata": {},
   "outputs": [
    {
     "name": "stdout",
     "output_type": "stream",
     "text": [
      "Epoch: 1\n",
      "Batch 100, Loss: 0.389\n",
      "Batch 200, Loss: 0.259\n",
      "Batch 300, Loss: 0.180\n",
      "\n",
      "Val Loss: 0.231\n",
      "***************************************************\n",
      "\n",
      "Epoch: 2\n",
      "Batch 100, Loss: 0.033\n",
      "Batch 200, Loss: 0.013\n",
      "Batch 300, Loss: 0.007\n",
      "\n",
      "Val Loss: 0.014\n",
      "***************************************************\n",
      "\n",
      "Epoch: 3\n",
      "Batch 100, Loss: 0.003\n",
      "Batch 200, Loss: 0.002\n",
      "Batch 300, Loss: 0.001\n",
      "\n",
      "Val Loss: 0.008\n",
      "***************************************************\n",
      "\n",
      "Epoch: 4\n",
      "Batch 100, Loss: 0.001\n",
      "Batch 200, Loss: 0.000\n",
      "Batch 300, Loss: 0.000\n",
      "\n",
      "Val Loss: 0.007\n",
      "***************************************************\n",
      "\n",
      "Epoch: 5\n",
      "Batch 100, Loss: 0.000\n",
      "Batch 200, Loss: 0.000\n",
      "Batch 300, Loss: 0.000\n",
      "\n",
      "Val Loss: 0.006\n",
      "***************************************************\n",
      "\n",
      "Epoch: 6\n",
      "Batch 100, Loss: 0.000\n",
      "Batch 200, Loss: 0.000\n",
      "Batch 300, Loss: 0.000\n",
      "\n",
      "Val Loss: 0.006\n",
      "***************************************************\n",
      "\n",
      "Epoch: 7\n",
      "Batch 100, Loss: 0.000\n",
      "Batch 200, Loss: 0.000\n",
      "Batch 300, Loss: 0.000\n",
      "\n",
      "Val Loss: 0.006\n",
      "***************************************************\n",
      "\n",
      "Epoch: 8\n",
      "Batch 100, Loss: 0.000\n",
      "Batch 200, Loss: 0.000\n",
      "Batch 300, Loss: 0.000\n",
      "\n",
      "Val Loss: 0.005\n",
      "***************************************************\n",
      "\n",
      "Epoch: 9\n",
      "Batch 100, Loss: 0.000\n",
      "Batch 200, Loss: 0.000\n",
      "Batch 300, Loss: 0.000\n",
      "\n",
      "Val Loss: 0.004\n",
      "***************************************************\n",
      "\n",
      "Epoch: 10\n",
      "Batch 100, Loss: 0.000\n",
      "Batch 200, Loss: 0.000\n",
      "Batch 300, Loss: 0.000\n",
      "\n",
      "Val Loss: 0.004\n",
      "***************************************************\n",
      "\n"
     ]
    }
   ],
   "source": [
    "learning_rate = 0.001\n",
    "num_epochs = 10\n",
    "loss_function = nn.MSELoss()\n",
    "optimizer = torch.optim.Adam(model.parameters(), lr=learning_rate)\n",
    "\n",
    "for epoch in range(num_epochs):\n",
    "    train_one_epoch()\n",
    "    validate_one_epoch()"
   ]
  },
  {
   "cell_type": "code",
   "execution_count": 39,
   "id": "85e9ab2a",
   "metadata": {},
   "outputs": [
    {
     "data": {
      "image/png": "[encoded data removed]",
      "text/plain": [
       "<Figure size 640x480 with 1 Axes>"
      ]
     },
     "metadata": {},
     "output_type": "display_data"
    }
   ],
   "source": [
    "with torch.no_grad():\n",
    "    predicted = model(x_train.to(device)).to('cpu').numpy()\n",
    "\n",
    "plt.plot(y_train, label='Actual Close')\n",
    "plt.plot(predicted, label='Predicted Close')\n",
    "plt.xlabel('Day')\n",
    "plt.ylabel('Close')\n",
    "plt.legend()\n",
    "plt.show()\n"
   ]
  },
  {
   "cell_type": "code",
   "execution_count": 40,
   "id": "e2580386",
   "metadata": {},
   "outputs": [
    {
     "data": {
      "text/plain": [
       "array([6.97658038e-02, 7.03438373e-02, 7.23002583e-02, ...,\n",
       "       1.70655622e+02, 1.70172519e+02, 1.70406234e+02])"
      ]
     },
     "execution_count": 40,
     "metadata": {},
     "output_type": "execute_result"
    }
   ],
   "source": [
    "train_predictions = predicted.flatten()\n",
    "\n",
    "dummies = np.zeros((x_train.shape[0], lookback+1))\n",
    "dummies[:, 0] = train_predictions\n",
    "dummies = scaler.inverse_transform(dummies)\n",
    "\n",
    "train_predictions = dc(dummies[:, 0])\n",
    "train_predictions"
   ]
  },
  {
   "cell_type": "code",
   "execution_count": 41,
   "id": "236e1271",
   "metadata": {},
   "outputs": [
    {
     "data": {
      "text/plain": [
       "array([7.70857088e-02, 8.28104636e-02, 8.43722657e-02, ...,\n",
       "       1.69091508e+02, 1.73315004e+02, 1.68871005e+02])"
      ]
     },
     "execution_count": 41,
     "metadata": {},
     "output_type": "execute_result"
    }
   ],
   "source": [
    "dummies = np.zeros((x_train.shape[0], lookback+1))\n",
    "dummies[:, 0] = y_train.flatten()\n",
    "dummies = scaler.inverse_transform(dummies)\n",
    "\n",
    "new_y_train = dc(dummies[:, 0])\n",
    "new_y_train"
   ]
  },
  {
   "cell_type": "code",
   "execution_count": 42,
   "id": "339bb9dd",
   "metadata": {},
   "outputs": [
    {
     "data": {
      "image/png": "[encoded data removed]",
      "text/plain": [
       "<Figure size 640x480 with 1 Axes>"
      ]
     },
     "metadata": {},
     "output_type": "display_data"
    }
   ],
   "source": [
    "plt.plot(new_y_train, label='Actual Close')\n",
    "plt.plot(train_predictions, label='Predicted Close')\n",
    "plt.xlabel('Day')\n",
    "plt.ylabel('Close')\n",
    "plt.legend()\n",
    "plt.show()\n"
   ]
  },
  {
   "cell_type": "code",
   "execution_count": 46,
   "id": "981b4d57",
   "metadata": {},
   "outputs": [
    {
     "data": {
      "text/plain": [
       "array([169.87076359, 169.68831621, 169.09600973, 169.18298154,\n",
       "       169.27580038, 169.33780559, 169.16973123, 169.20207887,\n",
       "       168.99894456, 168.79196411, 168.35223624, 168.60780486,\n",
       "       168.29912385, 167.59639074, 166.92567179, 166.27786298,\n",
       "       165.58401157, 165.66750407, 165.63621245, 164.94064917,\n",
       "       164.61380458, 163.77899081, 162.68885298, 160.97973019,\n",
       "       157.84807808, 155.6933804 , 152.88606066, 150.33668838,\n",
       "       148.43539169, 147.9534896 , 148.91593761, 150.043492  ,\n",
       "       150.81545574, 148.74246087, 151.51139696, 153.6092028 ,\n",
       "       155.94012289, 157.64372101, 158.53120252, 158.1118281 ,\n",
       "       158.21619649, 158.52913494, 159.04885375, 158.74171787,\n",
       "       158.1072483 , 157.12141216, 155.21046676, 155.10674309,\n",
       "       155.40459709, 155.57259363, 155.20266331, 155.13952426,\n",
       "       154.21276982, 153.03090252, 150.22922972, 147.63084687,\n",
       "       146.31754364, 147.12444506, 147.45658088, 146.86294048,\n",
       "       147.75270077, 149.74789456, 152.17243384, 154.84139237,\n",
       "       156.87506985, 159.07567673, 160.43424443, 161.53886644,\n",
       "       162.59826846, 164.12474377, 165.26808292, 165.62325116,\n",
       "       165.40023027, 165.36986128, 166.09694961, 165.85125202,\n",
       "       164.81043601, 163.86696306, 162.50243717, 160.7757066 ,\n",
       "       159.31577184, 159.03856031, 157.98456069, 157.38321687,\n",
       "       157.97704625, 157.59037519, 156.1816075 , 154.2680276 ,\n",
       "       153.11830785, 150.69332393, 148.49049384, 148.25984736,\n",
       "       143.04891982, 138.8433565 , 135.35216755, 133.08108505,\n",
       "       128.63937559, 124.67637791, 119.82039074, 116.19859956,\n",
       "       112.51104041, 110.40717077, 111.05724725, 111.04540868,\n",
       "       112.59922387, 111.09814868, 109.97252292, 109.21498223,\n",
       "       108.68703756, 107.1976342 , 106.99715106, 108.3532121 ,\n",
       "       110.78003572, 114.23679277, 117.20748478, 120.48600187,\n",
       "       121.81117702, 123.40440964, 123.96432957, 123.75293605,\n",
       "       121.97884008, 118.5213327 , 113.91192683, 109.96545869,\n",
       "       108.87863899, 106.99143187, 106.5632869 , 107.19762864,\n",
       "       107.85595322, 109.52344092, 112.08356796, 112.88558944,\n",
       "       111.46225976, 110.76813602, 109.35561667, 109.42013966,\n",
       "       110.84492554, 112.24094314, 113.91368872, 114.85612788,\n",
       "       114.25430052, 112.88745138, 112.20037519, 111.79647984,\n",
       "       112.49472764, 113.14068563, 115.06953896, 117.9649032 ,\n",
       "       120.67026116, 121.91090447, 122.32101368, 120.56515355,\n",
       "       121.05713231, 121.88424823, 126.3852617 , 129.90203419,\n",
       "       132.09523224, 135.1323592 , 138.15696395, 139.89702264,\n",
       "       140.79066521, 141.01039575, 142.39650897, 142.91569421,\n",
       "       144.03074307, 144.77448321, 145.7102194 , 145.74923666,\n",
       "       145.79483461, 144.80778683, 142.75178837, 141.19764526,\n",
       "       140.01116481, 140.0243373 , 138.32193694, 136.72598088,\n",
       "       135.17704008, 133.44161677, 132.41158886, 131.57953743,\n",
       "       130.5784112 , 130.82565391, 131.16907251, 132.45414102,\n",
       "       134.35176942, 133.08515907, 132.5359939 , 131.44318266,\n",
       "       129.80201216, 128.86315792, 127.44350765, 125.27054633,\n",
       "       123.22405763, 120.59724553, 119.05762551, 117.75169221,\n",
       "       117.99692848, 117.26805603, 116.16285042, 116.27061476,\n",
       "       118.07024425, 119.43772144, 120.23640256, 118.97264903,\n",
       "       117.64381115, 116.15557498, 115.27638046, 114.55909647,\n",
       "       112.24582864, 112.74942365, 114.08255787, 114.72949963,\n",
       "       115.24517221, 116.89640272, 118.28113199, 119.52077485,\n",
       "       118.83848412, 116.73759913, 112.64300435, 109.18112837,\n",
       "       104.8090914 , 100.10173386,  95.8298801 ,  93.47561358,\n",
       "        91.88605758,  90.77842312,  88.82369168,  91.14112246,\n",
       "        94.43765585,  96.04981351,  97.2327424 ,  97.311455  ,\n",
       "        96.46327143,  95.52575389,  94.25969101,  93.62124189,\n",
       "        93.5452944 ,  93.31147152,  93.3631944 ,  92.89637677,\n",
       "        93.98458041,  94.44859402,  94.29230544,  93.05898759,\n",
       "        91.18068163,  89.90235499,  89.70767997,  89.23796662,\n",
       "        89.46718747,  90.35556938,  90.70620506,  89.847628  ,\n",
       "        88.97665657,  87.33036714,  86.26162488,  86.11060529,\n",
       "        85.06009055,  84.85940732,  84.00437906,  83.00492023,\n",
       "        83.14721651,  83.25184058,  84.0024671 ,  84.31858473,\n",
       "        83.81856074,  84.45736001,  85.36769608,  86.89577766,\n",
       "        89.79781152,  91.8855518 ,  94.24321427,  95.06831819,\n",
       "        95.28957163,  94.71139918,  95.44955907,  96.08741348,\n",
       "        96.12974054,  96.41863501,  97.31114097,  98.99363809,\n",
       "        99.62179654, 100.88274883, 102.43512449, 106.13878799,\n",
       "       105.60469059, 104.61167073, 103.74822207, 102.41501837,\n",
       "       100.84416509,  99.52050173,  99.28034548,  99.26028661,\n",
       "        99.80635597,  99.21307127,  98.43262045,  96.96280353,\n",
       "        96.31475295,  95.91915015,  94.90031609,  94.27962205,\n",
       "        94.03906285,  93.20888169,  92.61812867,  93.18353436,\n",
       "        93.25372652,  93.24278557,  93.35358737,  92.85341887,\n",
       "        91.95367082,  91.88932013,  92.73449126,  93.84844796,\n",
       "        95.98394549,  97.12212402,  97.42068943,  98.52547819,\n",
       "        98.625503  ,  98.63684135,  98.40578913,  98.1869701 ,\n",
       "        97.75395632,  98.47392761,  99.63538866, 100.9309118 ,\n",
       "       101.54101227, 102.43764227])"
      ]
     },
     "execution_count": 46,
     "metadata": {},
     "output_type": "execute_result"
    }
   ],
   "source": [
    "test_predictions = model(x_test.to(device)).detach().cpu().numpy().flatten()\n",
    "\n",
    "dummies = np.zeros((x_test.shape[0], lookback+1))\n",
    "dummies[:, 0] = test_predictions\n",
    "dummies = scaler.inverse_transform(dummies)\n",
    "\n",
    "test_predictions = dc(dummies[:, 0])\n",
    "test_predictions"
   ]
  },
  {
   "cell_type": "code",
   "execution_count": 48,
   "id": "41436e73",
   "metadata": {},
   "outputs": [
    {
     "data": {
      "text/plain": [
       "array([170.01750073, 167.07899518, 170.41700525, 171.03700176,\n",
       "       171.06849902, 169.66949677, 170.66099652, 169.20100618,\n",
       "       168.64449887, 166.71699614, 170.40449416, 167.52200227,\n",
       "       164.35699652, 163.25399744, 162.55399887, 161.48599305,\n",
       "       165.36200225, 165.20700034, 161.21400606, 162.13799817,\n",
       "       158.91749564, 156.29899833, 151.66749379, 142.64300691,\n",
       "       144.54400347, 139.98599256, 138.87249717, 139.63749672,\n",
       "       143.97799751, 149.57350074, 151.19349521, 150.61250484,\n",
       "       138.84550467, 157.63949692, 157.93550009, 161.41349987,\n",
       "       161.18950077, 159.0034948 , 153.29350203, 155.16700864,\n",
       "       156.51049745, 158.10049531, 154.65249769, 152.60150144,\n",
       "       150.19749346, 144.82699533, 151.35800132, 153.78849879,\n",
       "       153.56300459, 151.1420002 , 152.05250301, 147.89849861,\n",
       "       145.64100545, 137.45300252, 136.01449668, 139.27900757,\n",
       "       146.81750371, 145.52450391, 141.8529963 , 147.36650214,\n",
       "       153.10400152, 157.23899751, 161.25050554, 161.49150105,\n",
       "       164.88900966, 163.40800446, 163.64950575, 164.77349745,\n",
       "       168.99049638, 169.31500105, 166.30099543, 162.99750063,\n",
       "       163.55999948, 168.34649481, 164.05499069, 158.75599641,\n",
       "       157.78449996, 154.46049608, 151.12199135, 150.78750448,\n",
       "       155.54100188, 151.70649438, 152.78500485, 158.11549639,\n",
       "       153.99800259, 148.29600224, 144.35000653, 146.07400256,\n",
       "       139.39100711, 138.16700728, 144.59649891, 124.28150322,\n",
       "       124.49999988, 124.25350194, 125.92849574, 116.40699732,\n",
       "       114.77249921, 108.78900072, 108.85900114, 105.37200154,\n",
       "       106.93049658, 113.0550005 , 110.81050059, 115.36850038,\n",
       "       107.11250348, 107.31900039, 107.59100267, 107.55699874,\n",
       "       104.09999783, 106.7750014 , 111.07749927, 115.14649939,\n",
       "       120.20950177, 121.68399853, 125.51100271, 122.34999872,\n",
       "       124.7900004 , 123.00000017, 121.18000056, 116.15000168,\n",
       "       109.65000246, 103.66999788, 102.3099983 , 107.66999734,\n",
       "       103.66000388, 106.22000031, 108.67999972, 108.94999695,\n",
       "       112.44000204, 116.45999854, 113.22000128, 107.40000151,\n",
       "       108.91999756, 106.20999866, 109.55999737, 113.50000015,\n",
       "       114.33000206, 116.33000214, 115.54000126, 111.74999956,\n",
       "       109.22000112, 110.40000232, 110.62999712, 113.55000282,\n",
       "       113.76000267, 118.20999774, 122.76999564, 124.62999628,\n",
       "       122.41999914, 121.13999953, 114.80999775, 120.9700021 ,\n",
       "       122.27999831, 134.94999797, 135.38999818, 134.16000403,\n",
       "       139.52000307, 142.57000795, 140.80000268, 139.41000441,\n",
       "       137.83000264, 142.68999992, 140.63999856, 143.55000261,\n",
       "       143.17999447, 144.77999676, 142.10000558, 142.30000517,\n",
       "       138.22999626, 133.22000206, 133.61999568, 133.8000031 ,\n",
       "       137.2799982 , 130.750001  , 129.78999296, 128.72999624,\n",
       "       126.7699958 , 127.81999921, 127.51000095, 126.11000104,\n",
       "       129.4799947 , 129.82000623, 133.27000474, 136.44999768,\n",
       "       126.82000125, 128.55000272, 126.27999847, 123.52999853,\n",
       "       124.660004  , 122.19000294, 118.54000207, 117.3099968 ,\n",
       "       113.77999902, 115.15000233, 114.41000412, 118.01000093,\n",
       "       114.80000305, 112.99999978, 115.8799975 , 121.08999685,\n",
       "       120.94999603, 120.30000292, 114.55999826, 113.66999758,\n",
       "       112.2099989 , 112.90000138, 112.5299988 , 106.90000253,\n",
       "       113.79000067, 116.36000152, 115.07000027, 115.24999935,\n",
       "       119.31999992, 119.8199989 , 120.59999674, 115.66000435,\n",
       "       110.95999867, 103.41000369, 102.44000234,  96.79000104,\n",
       "        92.120003  ,  89.30000309,  90.98000292,  90.52999898,\n",
       "        89.98000288,  86.13999885,  96.62999692, 100.79000085,\n",
       "        98.48999791,  98.94000186,  97.12000294,  94.84999799,\n",
       "        94.13999899,  92.45999899,  93.199997  ,  94.129997  ,\n",
       "        93.410004  ,  93.94999701,  92.41999796,  96.54000086,\n",
       "        95.49999996,  94.129997  ,  91.01000196,  88.25000003,\n",
       "        88.45999883,  90.34999816,  89.08999595,  90.55000297,\n",
       "        92.48999803,  91.58000204,  88.44999684,  87.8600011 ,\n",
       "        84.91999801,  85.19000219,  86.76999701,  83.79000088,\n",
       "        85.25000026,  83.04000103,  81.82000019,  84.17999981,\n",
       "        84.00000003,  85.82000034,  85.13999881,  83.12000308,\n",
       "        86.08000217,  87.36000108,  89.87000283,  95.08999601,\n",
       "        95.269997  ,  98.12000298,  96.05000301,  95.45999893,\n",
       "        93.68      ,  97.25000003,  97.51999691,  96.32000006,\n",
       "        97.17999997,  99.22000073, 102.23999789, 100.55000301,\n",
       "       103.12999718, 105.15000194, 112.91000441, 103.38999901,\n",
       "       102.17999982, 102.11000079, 100.05000334,  98.23999808,\n",
       "        97.61000096,  99.54000132,  99.69999711, 101.16000413,\n",
       "        98.15000201,  97.19999701,  94.58000198,  95.790001  ,\n",
       "        95.82000004,  93.50000001,  93.76000202,  94.23000296,\n",
       "        92.16999804,  92.12999701,  94.90000206,  93.74999998,\n",
       "        93.550003  ,  93.91999802,  92.25000001,  90.73000308,\n",
       "        92.43000004,  94.87999703,  96.19999697, 100.040001  ,\n",
       "        98.9499969 ,  97.70999902, 100.61000108,  98.69999707,\n",
       "        98.70999906,  98.12999698,  98.04000092,  97.23999804,\n",
       "       100.25000015, 102.00000005, 103.2900013 , 102.41000365,\n",
       "       103.94999675, 101.09999772])"
      ]
     },
     "execution_count": 48,
     "metadata": {},
     "output_type": "execute_result"
    }
   ],
   "source": [
    "dummies = np.zeros((x_test.shape[0], lookback+1))\n",
    "dummies[:, 0] = y_test.flatten()\n",
    "dummies = scaler.inverse_transform(dummies)\n",
    "\n",
    "new_y_test = dc(dummies[:, 0])\n",
    "new_y_test"
   ]
  },
  {
   "cell_type": "code",
   "execution_count": 49,
   "id": "26e3e5d3",
   "metadata": {},
   "outputs": [
    {
     "data": {
      "image/png": "[encoded data removed]",
      "text/plain": [
       "<Figure size 640x480 with 1 Axes>"
      ]
     },
     "metadata": {},
     "output_type": "display_data"
    }
   ],
   "source": [
    "plt.plot(new_y_test, label='Actual Close')\n",
    "plt.plot(test_predictions, label='Predicted Close')\n",
    "plt.xlabel('Day')\n",
    "plt.ylabel('Close')\n",
    "plt.legend()\n",
    "plt.show()\n"
   ]
  },
  {
   "cell_type": "code",
   "execution_count": 50,
   "id": "e3e63d47",
   "metadata": {},
   "outputs": [],
   "source": [
    "#our predictions are close"
   ]
  },
  {
   "cell_type": "code",
   "execution_count": null,
   "id": "71d4718c",
   "metadata": {},
   "outputs": [],
   "source": []
  }
 ],
 "metadata": {
  "kernelspec": {
   "display_name": "Python 3 (ipykernel)",
   "language": "python",
   "name": "python3"
  },
  "language_info": {
   "codemirror_mode": {
    "name": "ipython",
    "version": 3
   },
   "file_extension": ".py",
   "mimetype": "text/x-python",
   "name": "python",
   "nbconvert_exporter": "python",
   "pygments_lexer": "ipython3",
   "version": "3.9.13"
  }
 },
 "nbformat": 4,
 "nbformat_minor": 5
}
